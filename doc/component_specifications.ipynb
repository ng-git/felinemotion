{
 "cells": [
  {
   "cell_type": "markdown",
   "metadata": {},
   "source": [
    "# Component Specification"
   ]
  },
  {
   "cell_type": "markdown",
   "metadata": {},
   "source": [
    "## 1. Software components"
   ]
  },
  {
   "cell_type": "markdown",
   "metadata": {},
   "source": [
    "### 1.1 Component 1: Upload video "
   ]
  },
  {
   "cell_type": "markdown",
   "metadata": {},
   "source": [
    "Upload video component lets users to upload the video with cat in it. After clicking \"Upload\", the video will be ready for preprocessing. \n",
    "<br>\n",
    "Input: Video with cat face and meowing in mp4 format\n",
    "<br>\n",
    "Output: One audio and three images with cat face\n"
   ]
  },
  {
   "cell_type": "markdown",
   "metadata": {},
   "source": [
    "### 1.2 Component 2: Select one cat image out of three cat images"
   ]
  },
  {
   "cell_type": "markdown",
   "metadata": {},
   "source": [
    "3 images with cat face will be extracted randomly from the frame and prompt to the user. After user select one cat image and confirm it. The cat image will be delivered to the next face. \n",
    "<br>\n",
    "Input: three images with cat face\n",
    "<br>\n",
    "Output: one image with cat face"
   ]
  },
  {
   "cell_type": "markdown",
   "metadata": {},
   "source": [
    "### 1.3 Component 3: Evaluate cat emotion "
   ]
  },
  {
   "cell_type": "markdown",
   "metadata": {},
   "source": [
    "After user select one cat face image and select \n",
    "<br>\n",
    "Input: one audio csv and one image csv \n",
    "<br>\n",
    "Output: cat emotion (happy, angry, hungry)"
   ]
  },
  {
   "cell_type": "markdown",
   "metadata": {},
   "source": [
    "## 2. Interactions to accomplish use cases"
   ]
  },
  {
   "cell_type": "markdown",
   "metadata": {},
   "source": [
    "### 2.1 Interaction 1: Upload video \n",
    "The component accepts the video input from the user. Unless it's the required file type (.mp4), it will prevent the user from proceeding to the next step."
   ]
  },
  {
   "cell_type": "markdown",
   "metadata": {},
   "source": [
    "### 2.2 Interaction 2: Select one cat image out of three cat images"
   ]
  },
  {
   "cell_type": "markdown",
   "metadata": {},
   "source": [
    "The component accepts the three cat face images and prompt them into the screen so that user could select the one that they want to use in the analysis. "
   ]
  },
  {
   "cell_type": "markdown",
   "metadata": {},
   "source": [
    "### 2.3 Interaction 3: Evaluate cat emotion "
   ]
  },
  {
   "cell_type": "markdown",
   "metadata": {},
   "source": [
    "The component accepts the one audio csv file and one image csv file from previous process. After user click confirm button under the three cat face images, the two csv files will be prompt into the svm analysis part. Then the reuslt of the cat emotion will show in the screen."
   ]
  },
  {
   "cell_type": "markdown",
   "metadata": {},
   "source": [
    "## 3. Preliminary plan"
   ]
  },
  {
   "cell_type": "markdown",
   "metadata": {},
   "source": [
    "A list of tasks in priority order"
   ]
  },
  {
   "cell_type": "markdown",
   "metadata": {},
   "source": [
    "1. Download the video;\n",
    "2. Dataset preparation:\n",
    "    2.1 Extract image and audio dataset from the video dataset;\n",
    "    2.2 Capture the image with cat face;\n",
    "    2.3 Get the audio clip with meowing;\n",
    "    2.4 Register cat face image into 48*48 greyscale pixels;\n",
    "    2.5 Get the frequency of the audio clip;\n",
    "    2.6 Merge the image and audio dataset by catID;\n",
    "3. Data analysis using SVM;\n",
    "4. Develop the upload function;\n",
    "5. Develop the evaluation function;\n",
    "6. Code review;\n",
    "7. Finalize the documentation."
   ]
  }
 ],
 "metadata": {
  "kernelspec": {
   "display_name": "Python 3",
   "language": "python",
   "name": "python3"
  },
  "language_info": {
   "codemirror_mode": {
    "name": "ipython",
    "version": 3
   },
   "file_extension": ".py",
   "mimetype": "text/x-python",
   "name": "python",
   "nbconvert_exporter": "python",
   "pygments_lexer": "ipython3",
   "version": "3.7.4"
  }
 },
 "nbformat": 4,
 "nbformat_minor": 2
}
