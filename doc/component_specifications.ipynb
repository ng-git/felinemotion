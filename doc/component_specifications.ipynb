{
 "cells": [
  {
   "cell_type": "markdown",
   "metadata": {},
   "source": [
    "# Component Specification"
   ]
  },
  {
   "cell_type": "markdown",
   "metadata": {},
   "source": [
    "## 1. Software components"
   ]
  },
  {
   "cell_type": "markdown",
   "metadata": {},
   "source": [
    "Describe at least 3 components specifying: what it does, inputs it requires, and outputs it provides. \n",
    "a. data manager, which provides a simplified interface to your data and provides application specific features (e.g., querying data subsets); and b. visualization manager, which displays data frames as a plot."
   ]
  },
  {
   "cell_type": "markdown",
   "metadata": {},
   "source": [
    "### 1.1 Component 1: Upload video "
   ]
  },
  {
   "cell_type": "markdown",
   "metadata": {},
   "source": [
    "Upload video component lets users to upload the video with cat in it. After clicking \"Upload\", the video will be ready for preprocessing. "
   ]
  },
  {
   "cell_type": "markdown",
   "metadata": {},
   "source": [
    "### 1.2 Component 2: Analyze the emotion"
   ]
  },
  {
   "cell_type": "markdown",
   "metadata": {},
   "source": [
    "After clicking \"Get the emotion\" button, video will be processed into image and audio data, and be analyzed by SVM. Emotion result will be shown after the analysis. "
   ]
  },
  {
   "cell_type": "markdown",
   "metadata": {},
   "source": [
    "### 1.3 Component 3: Evaluate FelinEmotion result by user (Yue)"
   ]
  },
  {
   "cell_type": "markdown",
   "metadata": {},
   "source": [
    "Two questions will be asked in the evaluation session: \n",
    "    1. Do you think the emotion result is correct? \n",
    "    If the answer is no, then no more question; if the answer is yes, then the second question will be: \n",
    "    2. which emotion do you think the cat should be?"
   ]
  },
  {
   "cell_type": "markdown",
   "metadata": {},
   "source": [
    "## 2. Interactions to accomplish use cases"
   ]
  },
  {
   "cell_type": "markdown",
   "metadata": {},
   "source": [
    "Describe how the above software components interact to accomplish at least one of your use cases"
   ]
  },
  {
   "cell_type": "markdown",
   "metadata": {},
   "source": [
    "### 2.1 Interaction 1: Upload video (Minh)"
   ]
  },
  {
   "cell_type": "markdown",
   "metadata": {},
   "source": [
    "### 2.2 Interaction 2: Analyze the emotion (weishi)"
   ]
  },
  {
   "cell_type": "markdown",
   "metadata": {},
   "source": [
    "### 2.3 Interaction 3: Evaluate felinmotion result by user (Yue)"
   ]
  },
  {
   "cell_type": "markdown",
   "metadata": {},
   "source": [
    "## 3. Preliminary plan"
   ]
  },
  {
   "cell_type": "markdown",
   "metadata": {},
   "source": [
    "A list of tasks in priority order"
   ]
  },
  {
   "cell_type": "markdown",
   "metadata": {},
   "source": [
    "1. Download the video;\n",
    "2. Dataset preparation:\n",
    "    2.1 Extract image and audio dataset from the video dataset;\n",
    "    2.2 Capture the image with cat face;\n",
    "    2.3 Get the audio clip with meowing;\n",
    "    2.4 Register cat face image into 48*48 greyscale pixels;\n",
    "    2.5 Get the frequency of the audio clip;\n",
    "    2.6 Merge the image and audio dataset by catID;\n",
    "3. Data analysis using SVM;\n",
    "4. Develop the upload function;\n",
    "5. Develop the evaluation function;\n",
    "6. Code review;\n",
    "7. Finalize the documentation."
   ]
  }
 ],
 "metadata": {
  "kernelspec": {
   "display_name": "Python 3",
   "language": "python",
   "name": "python3"
  },
  "language_info": {
   "codemirror_mode": {
    "name": "ipython",
    "version": 3
   },
   "file_extension": ".py",
   "mimetype": "text/x-python",
   "name": "python",
   "nbconvert_exporter": "python",
   "pygments_lexer": "ipython3",
   "version": "3.7.4"
  }
 },
 "nbformat": 4,
 "nbformat_minor": 2
}
