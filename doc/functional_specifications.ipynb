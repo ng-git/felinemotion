{
 "cells": [
  {
   "cell_type": "markdown",
   "metadata": {},
   "source": [
    "# Functional Specification"
   ]
  },
  {
   "cell_type": "markdown",
   "metadata": {},
   "source": [
    "## 1. Background "
   ]
  },
  {
   "cell_type": "markdown",
   "metadata": {},
   "source": [
    "We are interested in the problem between the communication between human and cat. Cat lovers would like to know more about how the cat feels.Facial recognition and animal sound classification got high interest in recent years, there are seldom research interest and no applications of these technique on pet animals. The app \"Human-to-cat Translater\", which translates human speaking into meowing, has 10+ million downloads on Google Store. However, there is no app available to translate cats mewing to humans. Moreover, cats show varied emotions with facial expressions and sounds, such as angry, defense, fighting, happy, hunting mind, mating, mother call, paining, resting, warning. Understanding the emotion of the cat enables cat owners to keep the cat healthy and make the cat live a happy life."
   ]
  },
  {
   "cell_type": "markdown",
   "metadata": {},
   "source": [
    "## 2. User Profile"
   ]
  },
  {
   "cell_type": "markdown",
   "metadata": {},
   "source": [
    "## 2.1 Users of the System"
   ]
  },
  {
   "cell_type": "markdown",
   "metadata": {},
   "source": [
    "The users of the system are cat owners."
   ]
  },
  {
   "cell_type": "markdown",
   "metadata": {},
   "source": [
    "## 2.2 User Knowledge of the System"
   ]
  },
  {
   "cell_type": "markdown",
   "metadata": {},
   "source": [
    "Cat owners don’t have to have the domain and computing knowledge, they just need to upload a video with a cat in it. "
   ]
  },
  {
   "cell_type": "markdown",
   "metadata": {},
   "source": [
    "## 3. Data Sources"
   ]
  },
  {
   "cell_type": "markdown",
   "metadata": {},
   "source": [
    "Videos with cat mewing from Google research  (https://research.google.com/audioset//////////ontology/cat.html) will be used to trained the data. The video will first be divided into audio dataset and image data sets. After that, CNN and Haar Casade Algorithm are used to extract the required data. Audio datasets and image dataset will then be converted into pixel arrays. Lastly, both datasets will be merged into one csv file."
   ]
  },
  {
   "cell_type": "markdown",
   "metadata": {},
   "source": [
    "## 4. Use Cases"
   ]
  },
  {
   "cell_type": "markdown",
   "metadata": {},
   "source": [
    "1.\tUsers upload a video with a cat maowing\n",
    "2.\tSystem analyzes the video and provides the results to the users\n",
    "3.\tUsers evaluate the results."
   ]
  }
 ],
 "metadata": {
  "kernelspec": {
   "display_name": "Python 3",
   "language": "python",
   "name": "python3"
  },
  "language_info": {
   "codemirror_mode": {
    "name": "ipython",
    "version": 3
   },
   "file_extension": ".py",
   "mimetype": "text/x-python",
   "name": "python",
   "nbconvert_exporter": "python",
   "pygments_lexer": "ipython3",
   "version": "3.7.3"
  }
 },
 "nbformat": 4,
 "nbformat_minor": 2
}
