{
 "cells": [
  {
   "cell_type": "markdown",
   "metadata": {},
   "source": [
    "# Functional Specification"
   ]
  },
  {
   "cell_type": "markdown",
   "metadata": {},
   "source": [
    "## 1. Background "
   ]
  },
  {
   "cell_type": "markdown",
   "metadata": {},
   "source": [
    "We are interested in the problem between the communication between human and cat. Cat lovers would like to know more about how the cat feels.Facial recognition and animal sound classification got high interest in recent years, there are seldom research interest and no applications of these technique on pet animals. The app \"Human-to-cat Translater\", which translates human speaking into meowing, has 10+ million downloads on Google Store. However, there is no app available to translate cats mewing to humans. Moreover, cats show varied emotions with facial expressions and sounds, such as angry, defense, fighting, happy, hunting mind, mating, mother call, paining, resting, warning. Understanding the emotion of the cat enables cat owners to keep the cat healthy and make the cat live a happy life."
   ]
  },
  {
   "cell_type": "markdown",
   "metadata": {},
   "source": [
    "## 2. User Profile"
   ]
  },
  {
   "cell_type": "markdown",
   "metadata": {},
   "source": [
    "## 2.1 Users of the System"
   ]
  },
  {
   "cell_type": "markdown",
   "metadata": {},
   "source": [
    "The users of the system are cat owners who curious their cat emotions. "
   ]
  },
  {
   "cell_type": "markdown",
   "metadata": {},
   "source": [
    "## 2.2 User Knowledge of the System"
   ]
  },
  {
   "cell_type": "markdown",
   "metadata": {},
   "source": [
    "Cat owners don’t have to have the domain and computing knowledge, they just need to upload a video with a cat in it. "
   ]
  },
  {
   "cell_type": "markdown",
   "metadata": {},
   "source": [
    "## 3. Data Sources"
   ]
  },
  {
   "cell_type": "markdown",
   "metadata": {},
   "source": [
    "Due to the time limitation, training data were manually downloaded from youtubes. The video will first be divided into audio dataset and image data sets. After that, CNN and Haar Casade Algorithm are used to extract the required data. Audio datasets and image dataset will then be converted into pixel arrays. Lastly, both datasets will be merged into one csv file.\n",
    "\n",
    "### Data link:\n",
    "<br>\n",
    "Happy\n",
    "<br>\n",
    "https://www.youtube.com/watch?v=suUMt34qu5c\n",
    "<br>\n",
    "https://www.youtube.com/watch?time_continue=31&v=OEHhFtvE50A&feature=emb_logo\n",
    "<br>\n",
    "Hungry\n",
    "<br>\n",
    "https://www.youtube.com/watch?time_continue=36&v=-uGHAvfqs2I&feature=emb_logo\n",
    "<br>\n",
    "Angry\n",
    "<br>\n",
    "https://www.youtube.com/watch?v=Q5AncCWcnnA\n",
    "<br>\n",
    "https://www.youtube.com/watch?v=O2OjjzaG8mM\n",
    "\n",
    "### Data limitations: \n",
    "We manually download the video and convert it into WAV and PNG files, so the variation of features is limited.\n",
    "Only 3 emotions were classified due to the limited size of dataset. \n",
    "\n"
   ]
  },
  {
   "cell_type": "markdown",
   "metadata": {},
   "source": [
    "## 4. Use Cases"
   ]
  },
  {
   "cell_type": "markdown",
   "metadata": {},
   "source": [
    "1.\tUsers upload a video with a cat maowing and cat face\n",
    "2.  User select one cat face image out of three randomly selected cat face images\n",
    "3.\tSystem analyzes the video and provides the results to the users"
   ]
  }
 ],
 "metadata": {
  "kernelspec": {
   "display_name": "Python 3",
   "language": "python",
   "name": "python3"
  },
  "language_info": {
   "codemirror_mode": {
    "name": "ipython",
    "version": 3
   },
   "file_extension": ".py",
   "mimetype": "text/x-python",
   "name": "python",
   "nbconvert_exporter": "python",
   "pygments_lexer": "ipython3",
   "version": "3.7.4"
  }
 },
 "nbformat": 4,
 "nbformat_minor": 2
}
