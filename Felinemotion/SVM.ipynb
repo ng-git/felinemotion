{
 "cells": [
  {
   "cell_type": "code",
   "execution_count": 1,
   "metadata": {},
   "outputs": [],
   "source": [
    "import sys\n",
    "import pandas as pd\n",
    "from sklearn.svm import LinearSVC\n",
    "from sklearn.model_selection import train_test_split"
   ]
  },
  {
   "cell_type": "code",
   "execution_count": 2,
   "metadata": {},
   "outputs": [],
   "source": [
    "def csv_merge(image, audio):\n",
    "    image = pd.read_csv(image)\n",
    "    audio = pd.read_csv(audio)\n",
    "    \n",
    "    data = audio.merge(image, on='catID')\n",
    "    data = data.iloc[:,1:]\n",
    "    \n",
    "    data.to_csv('data.csv')"
   ]
  },
  {
   "cell_type": "code",
   "execution_count": 10,
   "metadata": {},
   "outputs": [],
   "source": [
    "def classification(term):\n",
    "#     emotion should be included in audio file\n",
    "    image = pd.read_csv('image.csv')\n",
    "    audio = pd.read_csv('audio.csv')\n",
    "    \n",
    "    data = audio.merge(image, on='catID')\n",
    "    \n",
    "    X = data.iloc[:,2:]\n",
    "    y = data.emotion\n",
    "    \n",
    "#     X_train, X_test, y_train, y_test = train_test_split(X, y, test_size = 0.20)\n",
    "    \n",
    "    clf = LinearSVC(random_state=0, tol=1e-5)\n",
    "    clf.fit(X, y)\n",
    "    \n",
    "#     read test csv into dataframe\n",
    "    test = pd.read_csv(term)\n",
    "    test = test.iloc[:, 1:]\n",
    "    \n",
    "    y_pred = clf.predict(test)\n",
    "    return(y_pred)"
   ]
  }
 ],
 "metadata": {
  "kernelspec": {
   "display_name": "Python 3",
   "language": "python",
   "name": "python3"
  },
  "language_info": {
   "codemirror_mode": {
    "name": "ipython",
    "version": 3
   },
   "file_extension": ".py",
   "mimetype": "text/x-python",
   "name": "python",
   "nbconvert_exporter": "python",
   "pygments_lexer": "ipython3",
   "version": "3.7.4"
  }
 },
 "nbformat": 4,
 "nbformat_minor": 2
}
