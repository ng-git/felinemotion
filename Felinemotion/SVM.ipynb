{
 "cells": [
  {
   "cell_type": "code",
   "execution_count": 1,
   "metadata": {},
   "outputs": [],
   "source": [
    "import sys\n",
    "import os\n",
    "import pandas as pd\n",
    "from sklearn.svm import LinearSVC\n",
    "from sklearn.model_selection import train_test_split"
   ]
  },
  {
   "cell_type": "code",
   "execution_count": 2,
   "metadata": {},
   "outputs": [],
   "source": [
    "def csv_merge(image, audio):\n",
    "    \n",
    "#     check whether the new image and audio data exist in the current work directory\n",
    "    if not os.path.exists(image):\n",
    "      raise ValueError(\"Invalid input file.\")\n",
    "    if not os.path.exists(audio):\n",
    "      raise ValueError(\"Invalid input file.\")\n",
    "    \n",
    "    \n",
    "    image = pd.read_csv(image)\n",
    "    audio = pd.read_csv(audio)\n",
    "\n",
    "    \n",
    "    data = audio.merge(image, on='catID')\n",
    "    data = data.iloc[:,1:]\n",
    "    \n",
    "    data.to_csv('userData/user_csv.csv')"
   ]
  },
  {
   "cell_type": "code",
   "execution_count": 3,
   "metadata": {},
   "outputs": [],
   "source": [
    "csv_merge('userData/image_test.csv', 'userData/audio_test.csv' )"
   ]
  },
  {
   "cell_type": "code",
   "execution_count": 4,
   "metadata": {},
   "outputs": [],
   "source": [
    "def classification(term):\n",
    "    \n",
    "#     emotion should be included in audio file\n",
    "    image = pd.read_csv('trainingData/image.csv')\n",
    "    audio = pd.read_csv('trainingData/audio.csv')\n",
    "    \n",
    "    data = audio.merge(image, on='catID')\n",
    "    \n",
    "    X = data.iloc[:,2:]\n",
    "    y = data.emotion\n",
    "    \n",
    "#     X_train, X_test, y_train, y_test = train_test_split(X, y, test_size = 0.20)\n",
    "    \n",
    "    clf = LinearSVC(random_state=0, tol=1e-5)\n",
    "    clf.fit(X, y)\n",
    "    \n",
    "#     read test csv into dataframe\n",
    "    if not os.path.exists(term):\n",
    "      raise ValueError(\"Invalid input file.\")\n",
    "    \n",
    "    test = pd.read_csv(term)\n",
    "    test = test.iloc[:, 1:]\n",
    "    \n",
    "    y_pred = clf.predict(test)\n",
    "    return(y_pred)"
   ]
  },
  {
   "cell_type": "code",
   "execution_count": 5,
   "metadata": {},
   "outputs": [
    {
     "name": "stderr",
     "output_type": "stream",
     "text": [
      "/Users/Clara/opt/anaconda3/lib/python3.7/site-packages/sklearn/svm/base.py:929: ConvergenceWarning: Liblinear failed to converge, increase the number of iterations.\n",
      "  \"the number of iterations.\", ConvergenceWarning)\n"
     ]
    },
    {
     "data": {
      "text/plain": [
       "array(['happy'], dtype=object)"
      ]
     },
     "execution_count": 5,
     "metadata": {},
     "output_type": "execute_result"
    }
   ],
   "source": [
    "classification('userData/user_csv.csv')"
   ]
  },
  {
   "cell_type": "code",
   "execution_count": null,
   "metadata": {},
   "outputs": [],
   "source": []
  }
 ],
 "metadata": {
  "kernelspec": {
   "display_name": "Python 3",
   "language": "python",
   "name": "python3"
  },
  "language_info": {
   "codemirror_mode": {
    "name": "ipython",
    "version": 3
   },
   "file_extension": ".py",
   "mimetype": "text/x-python",
   "name": "python",
   "nbconvert_exporter": "python",
   "pygments_lexer": "ipython3",
   "version": "3.7.4"
  }
 },
 "nbformat": 4,
 "nbformat_minor": 2
}
