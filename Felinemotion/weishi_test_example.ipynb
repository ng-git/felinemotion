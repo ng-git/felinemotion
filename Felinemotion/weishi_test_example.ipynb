{
 "cells": [
  {
   "cell_type": "code",
   "execution_count": 1,
   "metadata": {},
   "outputs": [],
   "source": [
    "import os\n",
    "\n",
    "import matplotlib.pyplot as plt\n",
    "import librosa\n",
    "import numpy as np\n",
    "import pandas as pd\n",
    "\n",
    "from numpy import asarray\n",
    "from numpy import savetxt\n",
    "from os.path import join\n",
    "from sklearn.preprocessing import LabelEncoder, StandardScaler\n",
    "from sklearn.decomposition import PCA\n",
    "from sklearn.model_selection import train_test_split\n",
    "import warnings\n",
    "warnings.filterwarnings(\"ignore\")\n",
    "\n",
    "import sound_to_csv\n",
    "\n",
    "\n"
   ]
  },
  {
   "cell_type": "code",
   "execution_count": 98,
   "metadata": {},
   "outputs": [],
   "source": [
    "folder_name = '../data/vid/trainingSet/raw'\n",
    "classifier = sound_to_csv.save_csv_raw(folder_name)\n",
    "X_features = pd.read_csv('../data/vid/trainingSet/raw/raw.csv')\n",
    "scaler = StandardScaler()\n",
    "X_features = scaler.fit_transform(X_features)\n",
    "pca = PCA(n_components=20)\n",
    "pca.fit(X_features)\n",
    "x_reduced = pca.transform(X_features)\n",
    "\n",
    "alpha_list = [] \n",
    "alpha = 'a'\n",
    "for i in range(0, 20): \n",
    "    alpha_list.append(alpha) \n",
    "    alpha = chr(ord(alpha) + 1)\n",
    "\n",
    "full = pd.DataFrame(np.append(classifier[np.newaxis].T, np.vstack((alpha_list,x_reduced)),1))\n",
    "full.to_csv (r'../data/vid/trainingSet/raw/full.csv', index = None, header=False)\n",
    "\n"
   ]
  }
 ],
 "metadata": {
  "kernelspec": {
   "display_name": "Python 3",
   "language": "python",
   "name": "python3"
  },
  "language_info": {
   "codemirror_mode": {
    "name": "ipython",
    "version": 3
   },
   "file_extension": ".py",
   "mimetype": "text/x-python",
   "name": "python",
   "nbconvert_exporter": "python",
   "pygments_lexer": "ipython3",
   "version": "3.6.2"
  }
 },
 "nbformat": 4,
 "nbformat_minor": 4
}
