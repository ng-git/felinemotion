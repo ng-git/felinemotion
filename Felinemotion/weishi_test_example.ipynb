{
 "cells": [
  {
   "cell_type": "code",
   "execution_count": 3,
   "metadata": {},
   "outputs": [],
   "source": [
    "import os\n",
    "\n",
    "import matplotlib.pyplot as plt\n",
    "import librosa\n",
    "import numpy as np\n",
    "import pandas as pd\n",
    "\n",
    "from numpy import asarray\n",
    "from numpy import savetxt\n",
    "from os.path import join\n",
    "from sklearn.preprocessing import LabelEncoder, StandardScaler\n",
    "from sklearn.decomposition import PCA\n",
    "from sklearn.model_selection import train_test_split\n",
    "import warnings\n",
    "warnings.filterwarnings(\"ignore\")\n",
    "\n",
    "import sound_to_csv\n"
   ]
  },
  {
   "cell_type": "code",
   "execution_count": 16,
   "metadata": {},
   "outputs": [],
   "source": [
    "#### create data for model\n",
    "folder_name = '../data/vid/trainingSet/raw'\n",
    "classifier = sound_to_csv.save_csv_raw(folder_name)\n",
    "X_features = pd.read_csv('../data/vid/trainingSet/raw/raw.csv')\n",
    "\n",
    "\n",
    "scaler = StandardScaler()\n",
    "X_features_scaled = scaler.fit_transform(X_features)\n",
    "pca = PCA(n_components=20)\n",
    "pca.fit(X_features_scaled)\n",
    "x_reduced = pca.transform(X_features_scaled)\n",
    "\n",
    "alpha_list = sound_to_csv.add_label()\n",
    "full = pd.DataFrame(np.append(classifier[np.newaxis].T, np.vstack((alpha_list,x_reduced)),1))\n",
    "full.to_csv (r'../data/vid/trainingSet/raw/full.csv', index = None, header=False)\n",
    "\n",
    "\n"
   ]
  },
  {
   "cell_type": "code",
   "execution_count": 17,
   "metadata": {},
   "outputs": [],
   "source": [
    "#### user input sound and dimension reduction\n",
    "\n",
    "user_sound  = sound_to_csv.convert_mel_one('test.wav')\n",
    "X_features.loc[len(X_features)] = user_sound\n",
    "\n",
    "scaler = StandardScaler()\n",
    "X_features_scaled = scaler.fit_transform(X_features)\n",
    "pca = PCA(n_components=20)\n",
    "pca.fit(X_features_scaled)\n",
    "x_reduced = pca.transform(X_features_scaled)\n",
    "\n",
    "alpha_list = sound_to_csv.add_label()\n",
    "user_output = pd.DataFrame(np.vstack((alpha_list,x_reduced[-1])))"
   ]
  }
 ],
 "metadata": {
  "kernelspec": {
   "display_name": "Python 3",
   "language": "python",
   "name": "python3"
  },
  "language_info": {
   "codemirror_mode": {
    "name": "ipython",
    "version": 3
   },
   "file_extension": ".py",
   "mimetype": "text/x-python",
   "name": "python",
   "nbconvert_exporter": "python",
   "pygments_lexer": "ipython3",
   "version": "3.6.2"
  }
 },
 "nbformat": 4,
 "nbformat_minor": 4
}
