{
 "cells": [
  {
   "cell_type": "code",
   "execution_count": 154,
   "metadata": {},
   "outputs": [],
   "source": [
    "import os\n",
    "\n",
    "import matplotlib.pyplot as plt\n",
    "import librosa\n",
    "import numpy as np\n",
    "import pandas as pd\n",
    "\n",
    "from numpy import asarray\n",
    "from numpy import savetxt\n",
    "from os.path import join\n",
    "from sklearn.preprocessing import LabelEncoder, StandardScaler\n",
    "from sklearn.decomposition import PCA\n",
    "from sklearn.model_selection import train_test_split\n",
    "import warnings\n",
    "warnings.filterwarnings(\"ignore\")\n",
    "\n",
    "def convert_mel_one(sound):\n",
    "    SR = 16000\n",
    "    src, sr = librosa.load(sound, sr=SR, mono=True)\n",
    "    len_second = 3.0 # 3 seconds\n",
    "    src = src[:int(sr*len_second)] # crop first 3 seconds\n",
    "    if len(src) < int(sr*len_second):\n",
    "        N = int(sr*len_second) - len(src)\n",
    "        src = np.pad(src, (0, N), 'constant')\n",
    "    src_mel = librosa.feature.melspectrogram(y=src, sr=sr)\n",
    "    return src_mel.flatten()\n",
    "\n",
    "\n",
    "def save_csv_raw(sound_folder):\n",
    "    files_list = os.listdir(sound_folder)    \n",
    "    csv_file = np.zeros(12032)\n",
    "    classifier = np.zeros(0)\n",
    "    for i in files_list:\n",
    "        if i.endswith('.wav'):\n",
    "            converted = convert_mel_one(join(sound_folder,i))\n",
    "            classifier_itr = i[:4]\n",
    "            classifier = np.append(classifier,classifier_itr)\n",
    "            csv_file = np.vstack((csv_file,converted))\n",
    "            \n",
    "    classifier = classifier[np.newaxis].T\n",
    "    savetxt(sound_folder+'/raw.csv',csv_file,delimiter=\",\")\n",
    "    return classifier\n",
    "        \n",
    "        \n",
    "\n",
    "folder_name = '../data/vid/trainingSet/raw'\n",
    "classifier = save_csv_raw(folder_name)\n",
    "\n",
    "\n"
   ]
  },
  {
   "cell_type": "code",
   "execution_count": 162,
   "metadata": {},
   "outputs": [],
   "source": [
    "X_features = pd.read_csv('../data/vid/trainingSet/raw/raw.csv')\n",
    "folder_name = '../data/vid/trainingSet/raw'\n",
    "classifier = save_csv_raw(folder_name)\n"
   ]
  },
  {
   "cell_type": "code",
   "execution_count": 163,
   "metadata": {},
   "outputs": [],
   "source": [
    "scaler = StandardScaler()\n",
    "X_features = scaler.fit_transform(X_features)\n"
   ]
  },
  {
   "cell_type": "code",
   "execution_count": 171,
   "metadata": {},
   "outputs": [],
   "source": [
    "pca = PCA(n_components=20)\n",
    "pca.fit(X_features)\n",
    "x_reduced = pca.transform(X_features)\n",
    "full = pd.DataFrame(np.append(classifier, x_reduced,1))\n",
    "\n"
   ]
  },
  {
   "cell_type": "code",
   "execution_count": 172,
   "metadata": {},
   "outputs": [],
   "source": [
    "full.to_csv (r'../data/vid/trainingSet/raw/full.csv', index = None, header=False)"
   ]
  }
 ],
 "metadata": {
  "kernelspec": {
   "display_name": "Python 3",
   "language": "python",
   "name": "python3"
  },
  "language_info": {
   "codemirror_mode": {
    "name": "ipython",
    "version": 3
   },
   "file_extension": ".py",
   "mimetype": "text/x-python",
   "name": "python",
   "nbconvert_exporter": "python",
   "pygments_lexer": "ipython3",
   "version": "3.6.2"
  }
 },
 "nbformat": 4,
 "nbformat_minor": 4
}
