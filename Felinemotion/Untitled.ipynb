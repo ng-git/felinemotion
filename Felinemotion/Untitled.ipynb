{
 "cells": [
  {
   "cell_type": "code",
   "execution_count": 3,
   "metadata": {},
   "outputs": [],
   "source": [
    "import os\n",
    "\n",
    "import matplotlib.pyplot as plt\n",
    "import librosa\n",
    "import numpy as np\n",
    "import pandas as pd\n",
    "\n",
    "from numpy import asarray\n",
    "from numpy import savetxt\n",
    "from os.path import join\n",
    "\n",
    "def convert_mel_one(sound):\n",
    "    SR = 16000\n",
    "    src, sr = librosa.load(sound, sr=SR, mono=True)\n",
    "    len_second = 3.0 # 3 seconds\n",
    "    src = src[:int(sr*len_second)] # crop first 3 seconds\n",
    "    src_mel = librosa.feature.melspectrogram(y=src, sr=sr)\n",
    "    return src_mel\n",
    "\n",
    "def save_csv(sound_folder,csv_folder):\n",
    "    files_list = os.listdir(sound_folder)\n",
    "    for i in files_list:\n",
    "        converted = convert_mel_one(join(sound_folder,i))\n",
    "        i = i.replace('.wav', '.csv')\n",
    "        savetxt(join(csv_folder,i), converted)\n",
    "        \n",
    "input_folder = '../data/vid/trainingSet/raw'\n",
    "output_folder = '../data/csv'\n",
    "\n",
    "save_csv(input_folder, output_folder)\n",
    "\n",
    "\n"
   ]
  }
 ],
 "metadata": {
  "kernelspec": {
   "display_name": "Python 3",
   "language": "python",
   "name": "python3"
  },
  "language_info": {
   "codemirror_mode": {
    "name": "ipython",
    "version": 3
   },
   "file_extension": ".py",
   "mimetype": "text/x-python",
   "name": "python",
   "nbconvert_exporter": "python",
   "pygments_lexer": "ipython3",
   "version": "3.6.2"
  }
 },
 "nbformat": 4,
 "nbformat_minor": 4
}
